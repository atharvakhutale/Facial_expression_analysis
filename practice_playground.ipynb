{
 "cells": [
  {
   "cell_type": "code",
   "execution_count": null,
   "id": "9c677232-c685-40c7-b46e-58e34bb2fdb1",
   "metadata": {},
   "outputs": [],
   "source": []
  },
  {
   "cell_type": "code",
   "execution_count": 18,
   "id": "7b206686-5a6d-41bf-93c0-b6a1823a0b4e",
   "metadata": {},
   "outputs": [],
   "source": [
    "import csv\n",
    "import pandas as pd\n",
    "import numpy as np"
   ]
  },
  {
   "cell_type": "code",
   "execution_count": 22,
   "id": "583d9ca2-1f14-4f20-80d2-01feed5e4ff5",
   "metadata": {},
   "outputs": [
    {
     "name": "stdout",
     "output_type": "stream",
     "text": [
      "['emotion', 'pixels', 'Usage']\n",
      "2304\n",
      "[[ 70  80  82 ...  52  43  41]\n",
      " [ 65  61  58 ...  56  52  44]\n",
      " [ 50  43  54 ...  49  56  47]\n",
      " ...\n",
      " [ 91  65  42 ...  72  56  43]\n",
      " [ 77  82  79 ... 105  70  46]\n",
      " [ 77  72  84 ... 106 109  82]]\n"
     ]
    }
   ],
   "source": [
    "with open('/home/atharva/jupyter_lab/facial-expression-analysis-v-2/fer2013.csv', 'r') as csvin:\n",
    "            data = csv.reader(csvin)\n",
    "            print(next(data))\n",
    "            # print(next(data))\n",
    "            for row in data:\n",
    "                #print(row)\n",
    "                face = [int(pixel) for pixel in row[1].split()]\n",
    "                print(len(face))\n",
    "                face = np.asarray(face).reshape(48, 48)\n",
    "                print(face)\n",
    "                break\n",
    "                "
   ]
  },
  {
   "cell_type": "code",
   "execution_count": 6,
   "id": "8f84ec87-8749-40b6-9f8d-a48d4cf0866c",
   "metadata": {},
   "outputs": [],
   "source": [
    "df = pd.read_csv('/home/atharva/jupyter_lab/facial-expression-analysis-v-2/fer2013.csv')"
   ]
  },
  {
   "cell_type": "code",
   "execution_count": 7,
   "id": "d339421f-059f-4cae-b8f7-1eabc31478ef",
   "metadata": {},
   "outputs": [
    {
     "data": {
      "text/html": [
       "<div>\n",
       "<style scoped>\n",
       "    .dataframe tbody tr th:only-of-type {\n",
       "        vertical-align: middle;\n",
       "    }\n",
       "\n",
       "    .dataframe tbody tr th {\n",
       "        vertical-align: top;\n",
       "    }\n",
       "\n",
       "    .dataframe thead th {\n",
       "        text-align: right;\n",
       "    }\n",
       "</style>\n",
       "<table border=\"1\" class=\"dataframe\">\n",
       "  <thead>\n",
       "    <tr style=\"text-align: right;\">\n",
       "      <th></th>\n",
       "      <th>emotion</th>\n",
       "      <th>pixels</th>\n",
       "      <th>Usage</th>\n",
       "    </tr>\n",
       "  </thead>\n",
       "  <tbody>\n",
       "    <tr>\n",
       "      <th>0</th>\n",
       "      <td>0</td>\n",
       "      <td>70 80 82 72 58 58 60 63 54 58 60 48 89 115 121...</td>\n",
       "      <td>Training</td>\n",
       "    </tr>\n",
       "    <tr>\n",
       "      <th>1</th>\n",
       "      <td>0</td>\n",
       "      <td>151 150 147 155 148 133 111 140 170 174 182 15...</td>\n",
       "      <td>Training</td>\n",
       "    </tr>\n",
       "    <tr>\n",
       "      <th>2</th>\n",
       "      <td>2</td>\n",
       "      <td>231 212 156 164 174 138 161 173 182 200 106 38...</td>\n",
       "      <td>Training</td>\n",
       "    </tr>\n",
       "    <tr>\n",
       "      <th>3</th>\n",
       "      <td>4</td>\n",
       "      <td>24 32 36 30 32 23 19 20 30 41 21 22 32 34 21 1...</td>\n",
       "      <td>Training</td>\n",
       "    </tr>\n",
       "    <tr>\n",
       "      <th>4</th>\n",
       "      <td>6</td>\n",
       "      <td>4 0 0 0 0 0 0 0 0 0 0 0 3 15 23 28 48 50 58 84...</td>\n",
       "      <td>Training</td>\n",
       "    </tr>\n",
       "  </tbody>\n",
       "</table>\n",
       "</div>"
      ],
      "text/plain": [
       "   emotion                                             pixels     Usage\n",
       "0        0  70 80 82 72 58 58 60 63 54 58 60 48 89 115 121...  Training\n",
       "1        0  151 150 147 155 148 133 111 140 170 174 182 15...  Training\n",
       "2        2  231 212 156 164 174 138 161 173 182 200 106 38...  Training\n",
       "3        4  24 32 36 30 32 23 19 20 30 41 21 22 32 34 21 1...  Training\n",
       "4        6  4 0 0 0 0 0 0 0 0 0 0 0 3 15 23 28 48 50 58 84...  Training"
      ]
     },
     "execution_count": 7,
     "metadata": {},
     "output_type": "execute_result"
    }
   ],
   "source": [
    "df.head()"
   ]
  },
  {
   "cell_type": "code",
   "execution_count": null,
   "id": "f941d6b7-0724-4fe0-a9d7-6608a4e89d06",
   "metadata": {},
   "outputs": [],
   "source": []
  },
  {
   "cell_type": "code",
   "execution_count": 23,
   "id": "985156c7-70d6-4be4-9d36-20c5a5055bdb",
   "metadata": {},
   "outputs": [
    {
     "name": "stdout",
     "output_type": "stream",
     "text": [
      "Original array : \n",
      " [0 1 2 3 4 5 6 7]\n",
      "\n",
      "array reshaped with 2 rows and 4 columns : \n",
      " [[0 1 2 3]\n",
      " [4 5 6 7]]\n",
      "\n",
      "array reshaped with 4 rows and 2 columns : \n",
      " [[0 1]\n",
      " [2 3]\n",
      " [4 5]\n",
      " [6 7]]\n",
      "\n",
      "Original array reshaped to 3D : \n",
      " [[[0 1]\n",
      "  [2 3]]\n",
      "\n",
      " [[4 5]\n",
      "  [6 7]]]\n"
     ]
    }
   ],
   "source": [
    "# Python Program illustrating\n",
    "# numpy.reshape() method\n",
    "\n",
    "import numpy as geek\n",
    "\n",
    "# array = geek.arrange(8)\n",
    "# The 'numpy' module has no attribute 'arrange'\n",
    "array1 = geek.arange(8)\n",
    "print(\"Original array : \\n\", array1)\n",
    "\n",
    "# shape array with 2 rows and 4 columns\n",
    "array2 = geek.arange(8).reshape(2, 4)\n",
    "print(\"\\narray reshaped with 2 rows and 4 columns : \\n\",\n",
    "\tarray2)\n",
    "\n",
    "# shape array with 4 rows and 2 columns\n",
    "array3 = geek.arange(8).reshape(4, 2)\n",
    "print(\"\\narray reshaped with 4 rows and 2 columns : \\n\",\n",
    "\tarray3)\n",
    "\n",
    "# Constructs 3D array\n",
    "array4 = geek.arange(8).reshape(2, 2, 2)\n",
    "print(\"\\nOriginal array reshaped to 3D : \\n\",\n",
    "\tarray4)\n"
   ]
  },
  {
   "cell_type": "code",
   "execution_count": null,
   "id": "7949e7f0-d49d-44da-b370-1f17907f6d9c",
   "metadata": {},
   "outputs": [],
   "source": []
  }
 ],
 "metadata": {
  "kernelspec": {
   "display_name": "Python 3 (ipykernel)",
   "language": "python",
   "name": "python3"
  },
  "language_info": {
   "codemirror_mode": {
    "name": "ipython",
    "version": 3
   },
   "file_extension": ".py",
   "mimetype": "text/x-python",
   "name": "python",
   "nbconvert_exporter": "python",
   "pygments_lexer": "ipython3",
   "version": "3.8.10"
  }
 },
 "nbformat": 4,
 "nbformat_minor": 5
}
